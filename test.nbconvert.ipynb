{
 "cells": [
  {
   "cell_type": "code",
   "execution_count": 1,
   "metadata": {
    "cell_style": "split"
   },
   "outputs": [],
   "source": [
    "import pandas as pd\n",
    "from beakerx import *\n",
    "from beakerx.object import beakerx\n",
    "from ipywidgets import widgets\n",
    "import numpy as np\n",
    "from IPython.display import display\n",
    "from IPython.display import clear_output"
   ]
  },
  {
   "cell_type": "code",
   "execution_count": 2,
   "metadata": {
    "cell_style": "center"
   },
   "outputs": [],
   "source": [
    "### 1. Import dataframe and display as it is :"
   ]
  },
  {
   "cell_type": "code",
   "execution_count": 3,
   "metadata": {
    "cell_style": "center",
    "extensions": {
     "jupyter_dashboards": {
      "version": 1,
      "views": {
       "grid_default": {},
       "report_default": {
        "hidden": false
       }
      }
     }
    },
    "scrolled": false
   },
   "outputs": [
    {
     "data": {
      "application/vnd.jupyter.widget-view+json": {
       "model_id": "a75a13addcac4924a6ba7b60f832432c",
       "version_major": 2,
       "version_minor": 0
      }
     },
     "metadata": {},
     "output_type": "display_data"
    },
    {
     "name": "stdout",
     "output_type": "stream",
     "text": [
      "47 rows x 11 columns.\n"
     ]
    }
   ],
   "source": [
    "df1 = pd.read_csv (r'queryResults.csv', sep=\" , \", engine='python')\n",
    "display(df1)\n",
    "\n",
    "r1, c1 = df1.shape\n",
    "print(r1, \"rows x\", c1, \"columns.\")"
   ]
  },
  {
   "cell_type": "code",
   "execution_count": 4,
   "metadata": {},
   "outputs": [],
   "source": [
    "### 2. Search  the whole table :"
   ]
  },
  {
   "cell_type": "code",
   "execution_count": null,
   "metadata": {},
   "outputs": [],
   "source": []
  },
  {
   "cell_type": "code",
   "execution_count": 5,
   "metadata": {
    "cell_style": "center"
   },
   "outputs": [
    {
     "data": {
      "application/vnd.jupyter.widget-view+json": {
       "model_id": "135ac941a3864953b9e7f057c6c4728d",
       "version_major": 2,
       "version_minor": 0
      },
      "text/plain": [
       "Text(value='', description='Contains:', placeholder='match case')"
      ]
     },
     "metadata": {},
     "output_type": "display_data"
    },
    {
     "data": {
      "application/vnd.jupyter.widget-view+json": {
       "model_id": "cc47a766054a4cc09b7d5eb8b6d19027",
       "version_major": 2,
       "version_minor": 0
      },
      "text/plain": [
       "Button(description='Search', style=ButtonStyle())"
      ]
     },
     "metadata": {},
     "output_type": "display_data"
    },
    {
     "data": {
      "application/vnd.jupyter.widget-view+json": {
       "model_id": "36a842ba88e34487aceb18bd78939bd9",
       "version_major": 2,
       "version_minor": 0
      },
      "text/plain": [
       "Output()"
      ]
     },
     "metadata": {},
     "output_type": "display_data"
    }
   ],
   "source": [
    "search = widgets.Text(\n",
    "    value='',\n",
    "    placeholder='match case',\n",
    "    description='Contains:',\n",
    "    disabled=False\n",
    ")\n",
    "display(search)\n",
    "\n",
    "button = widgets.Button(description=\"Search\")\n",
    "output = widgets.Output()\n",
    "display(button, output)\n",
    "\n",
    "def on_button_clicked(b):\n",
    "    with output:\n",
    "        clear_output()\n",
    "        df1 = pd.read_csv (r'queryResults.csv', sep=\" , \", engine='python')\n",
    "        filter1 = df1[df1.columns[1]].str.contains(search.value)\n",
    "        filter2 = df1[df1.columns[2]].str.contains(search.value)\n",
    "        filter3 = df1[df1.columns[3]].str.contains(search.value)\n",
    "        filter4 = df1[df1.columns[4]].str.contains(search.value)\n",
    "        filter5 = df1[df1.columns[5]].str.contains(search.value)\n",
    "        filter6 = df1[df1.columns[6]].str.contains(search.value)\n",
    "        filter7 = df1[df1.columns[7]].str.contains(search.value)\n",
    "        filter8 = df1[df1.columns[8]].str.contains(search.value)\n",
    "        #filter9 = df1[df1.columns[9]].str.contains(search.value)\n",
    "        filter10 = df1[df1.columns[10]].str.contains(search.value)\n",
    "        df1.where(filter1 | filter2 | filter3 | filter4 | filter5 | filter6 | filter7 | filter8 | filter10, inplace = True)\n",
    "        df1 = df1.dropna(how='all')\n",
    "        #display(df1)\n",
    "        #print(r2, \"rows x\", c2, \"columns.\")\n",
    "        display(df1)\n",
    "        r1, c1 = df1.shape\n",
    "        print(r1, \"rows x\", c1, \"columns.\")\n",
    "button.on_click(on_button_clicked)"
   ]
  },
  {
   "cell_type": "code",
   "execution_count": null,
   "metadata": {},
   "outputs": [],
   "source": []
  },
  {
   "cell_type": "code",
   "execution_count": null,
   "metadata": {},
   "outputs": [],
   "source": []
  },
  {
   "cell_type": "code",
   "execution_count": null,
   "metadata": {},
   "outputs": [],
   "source": []
  }
 ],
 "metadata": {
  "extensions": {
   "jupyter_dashboards": {
    "activeView": "grid_default",
    "version": 1,
    "views": {
     "grid_default": {
      "cellMargin": 10,
      "defaultCellHeight": 20,
      "maxColumns": 12,
      "name": "grid",
      "type": "grid"
     },
     "report_default": {
      "name": "report",
      "type": "report"
     }
    }
   }
  },
  "hide_input": false,
  "kernelspec": {
   "display_name": "Python 3",
   "language": "python",
   "name": "python3"
  },
  "language_info": {
   "codemirror_mode": {
    "name": "ipython",
    "version": 3
   },
   "file_extension": ".py",
   "mimetype": "text/x-python",
   "name": "python",
   "nbconvert_exporter": "python",
   "pygments_lexer": "ipython3",
   "version": "3.7.3"
  },
  "toc": {
   "base_numbering": 1,
   "nav_menu": {
    "height": "81px",
    "width": "265.2px"
   },
   "number_sections": false,
   "sideBar": false,
   "skip_h1_title": false,
   "title_cell": "Table of Contents",
   "title_sidebar": "Contents",
   "toc_cell": false,
   "toc_position": {},
   "toc_section_display": false,
   "toc_window_display": false
  },
  "widgets": {
   "application/vnd.jupyter.widget-state+json": {
    "state": {
     "07750db139f54e65a12f7a07d43d73d3": {
      "model_module": "@jupyter-widgets/controls",
      "model_module_version": "1.5.0",
      "model_name": "ButtonStyleModel",
      "state": {
       "_model_module": "@jupyter-widgets/controls",
       "_model_module_version": "1.5.0",
       "_model_name": "ButtonStyleModel",
       "_view_count": null,
       "_view_module": "@jupyter-widgets/base",
       "_view_module_version": "1.2.0",
       "_view_name": "StyleView",
       "button_color": null,
       "font_weight": ""
      }
     },
     "135ac941a3864953b9e7f057c6c4728d": {
      "model_module": "@jupyter-widgets/controls",
      "model_module_version": "1.5.0",
      "model_name": "TextModel",
      "state": {
       "_dom_classes": [],
       "_model_module": "@jupyter-widgets/controls",
       "_model_module_version": "1.5.0",
       "_model_name": "TextModel",
       "_view_count": null,
       "_view_module": "@jupyter-widgets/controls",
       "_view_module_version": "1.5.0",
       "_view_name": "TextView",
       "continuous_update": true,
       "description": "Contains:",
       "description_tooltip": null,
       "disabled": false,
       "layout": "IPY_MODEL_522a430e15324cb69692007e1df0b091",
       "placeholder": "match case",
       "style": "IPY_MODEL_923c985cd8f64f709e38d3431a708fca",
       "value": ""
      }
     },
     "36a842ba88e34487aceb18bd78939bd9": {
      "model_module": "@jupyter-widgets/output",
      "model_module_version": "1.0.0",
      "model_name": "OutputModel",
      "state": {
       "_dom_classes": [],
       "_model_module": "@jupyter-widgets/output",
       "_model_module_version": "1.0.0",
       "_model_name": "OutputModel",
       "_view_count": null,
       "_view_module": "@jupyter-widgets/output",
       "_view_module_version": "1.0.0",
       "_view_name": "OutputView",
       "layout": "IPY_MODEL_7048ab31095648ceb02a6a9d09ed138a",
       "msg_id": "",
       "outputs": []
      }
     },
     "51800551f34f4322aab0554a55100d14": {
      "model_module": "@jupyter-widgets/base",
      "model_module_version": "*",
      "model_name": "LayoutModel",
      "state": {
       "_model_module": "@jupyter-widgets/base",
       "_model_module_version": "*",
       "_model_name": "LayoutModel",
       "_view_count": null,
       "_view_module": "@jupyter-widgets/base",
       "_view_module_version": "*",
       "_view_name": "LayoutView",
       "align_content": null,
       "align_items": null,
       "align_self": null,
       "border": null,
       "bottom": null,
       "display": null,
       "flex": null,
       "flex_flow": null,
       "grid_area": null,
       "grid_auto_columns": null,
       "grid_auto_flow": null,
       "grid_auto_rows": null,
       "grid_column": null,
       "grid_gap": null,
       "grid_row": null,
       "grid_template_areas": null,
       "grid_template_columns": null,
       "grid_template_rows": null,
       "height": null,
       "justify_content": null,
       "justify_items": null,
       "left": null,
       "margin": null,
       "max_height": null,
       "max_width": null,
       "min_height": null,
       "min_width": null,
       "object_fit": null,
       "object_position": null,
       "order": null,
       "overflow": null,
       "overflow_x": null,
       "overflow_y": null,
       "padding": null,
       "right": null,
       "top": null,
       "visibility": null,
       "width": null
      }
     },
     "522a430e15324cb69692007e1df0b091": {
      "model_module": "@jupyter-widgets/base",
      "model_module_version": "1.2.0",
      "model_name": "LayoutModel",
      "state": {
       "_model_module": "@jupyter-widgets/base",
       "_model_module_version": "1.2.0",
       "_model_name": "LayoutModel",
       "_view_count": null,
       "_view_module": "@jupyter-widgets/base",
       "_view_module_version": "1.2.0",
       "_view_name": "LayoutView",
       "align_content": null,
       "align_items": null,
       "align_self": null,
       "border": null,
       "bottom": null,
       "display": null,
       "flex": null,
       "flex_flow": null,
       "grid_area": null,
       "grid_auto_columns": null,
       "grid_auto_flow": null,
       "grid_auto_rows": null,
       "grid_column": null,
       "grid_gap": null,
       "grid_row": null,
       "grid_template_areas": null,
       "grid_template_columns": null,
       "grid_template_rows": null,
       "height": null,
       "justify_content": null,
       "justify_items": null,
       "left": null,
       "margin": null,
       "max_height": null,
       "max_width": null,
       "min_height": null,
       "min_width": null,
       "object_fit": null,
       "object_position": null,
       "order": null,
       "overflow": null,
       "overflow_x": null,
       "overflow_y": null,
       "padding": null,
       "right": null,
       "top": null,
       "visibility": null,
       "width": null
      }
     },
     "7048ab31095648ceb02a6a9d09ed138a": {
      "model_module": "@jupyter-widgets/base",
      "model_module_version": "1.2.0",
      "model_name": "LayoutModel",
      "state": {
       "_model_module": "@jupyter-widgets/base",
       "_model_module_version": "1.2.0",
       "_model_name": "LayoutModel",
       "_view_count": null,
       "_view_module": "@jupyter-widgets/base",
       "_view_module_version": "1.2.0",
       "_view_name": "LayoutView",
       "align_content": null,
       "align_items": null,
       "align_self": null,
       "border": null,
       "bottom": null,
       "display": null,
       "flex": null,
       "flex_flow": null,
       "grid_area": null,
       "grid_auto_columns": null,
       "grid_auto_flow": null,
       "grid_auto_rows": null,
       "grid_column": null,
       "grid_gap": null,
       "grid_row": null,
       "grid_template_areas": null,
       "grid_template_columns": null,
       "grid_template_rows": null,
       "height": null,
       "justify_content": null,
       "justify_items": null,
       "left": null,
       "margin": null,
       "max_height": null,
       "max_width": null,
       "min_height": null,
       "min_width": null,
       "object_fit": null,
       "object_position": null,
       "order": null,
       "overflow": null,
       "overflow_x": null,
       "overflow_y": null,
       "padding": null,
       "right": null,
       "top": null,
       "visibility": null,
       "width": null
      }
     },
     "923c985cd8f64f709e38d3431a708fca": {
      "model_module": "@jupyter-widgets/controls",
      "model_module_version": "1.5.0",
      "model_name": "DescriptionStyleModel",
      "state": {
       "_model_module": "@jupyter-widgets/controls",
       "_model_module_version": "1.5.0",
       "_model_name": "DescriptionStyleModel",
       "_view_count": null,
       "_view_module": "@jupyter-widgets/base",
       "_view_module_version": "1.2.0",
       "_view_name": "StyleView",
       "description_width": ""
      }
     },
     "a75a13addcac4924a6ba7b60f832432c": {
      "model_module": "beakerx",
      "model_module_version": "*",
      "model_name": "TableDisplayModel",
      "state": {
       "_dom_classes": [],
       "_model_module": "beakerx",
       "_model_module_version": "*",
       "_model_name": "TableDisplayModel",
       "_view_count": null,
       "_view_module": "beakerx",
       "_view_module_version": "*",
       "_view_name": "TableDisplayView",
       "layout": "IPY_MODEL_51800551f34f4322aab0554a55100d14",
       "model": {
        "NAT_VALUE": "NaT",
        "alignmentForColumn": {},
        "alignmentForType": {},
        "cellHighlighters": [],
        "columnNames": [
         "\"subSystemNumber\"",
         "\"subSystemRefDes\"",
         "\"subSystemLabel\"",
         "\"subSystemAcronym\"",
         "\"provenanceSubsystem\"",
         "\"assemblyAcronym\"",
         "\"assemblyName\"",
         "\"assemblyRefDes\"",
         "\"parentAssemblyRefDes\"",
         "\"mountingLocation\"",
         "\"provenanceAssembly\" ,"
        ],
        "columnOrder": [],
        "columnsFrozen": {},
        "columnsFrozenRight": {},
        "columnsVisible": {},
        "contextMenuItems": [],
        "contextMenuTags": {},
        "fontColor": [],
        "hasDoubleClickAction": false,
        "headersVertical": false,
        "rendererForColumn": {},
        "rendererForType": {},
        "stringFormatForColumn": {},
        "stringFormatForType": {},
        "subtype": "ListOfMaps",
        "tooManyRows": false,
        "tooltips": [],
        "type": "TableDisplay",
        "types": [
         "string",
         "string",
         "string",
         "string",
         "string",
         "string",
         "string",
         "string",
         "string",
         "double",
         "string"
        ],
        "values": [
         [
          "\"1000\"",
          "\"1000\"",
          "\"Payload\"",
          "\"WP5\"",
          "\"Proposed\"",
          "\"540000\"",
          "\"Payload Module\"",
          "\"1000540000\"",
          "\"0000500000\"",
          "nan",
          "\"Proposed\" ,"
         ],
         [
          "\"1000\"",
          "\"1000\"",
          "\"Payload\"",
          "\"WP5\"",
          "\"Proposed\"",
          "\"541000\"",
          "\"Sensor\"",
          "\"1000541000\"",
          "\"1000540000\"",
          "nan",
          "\"Proposed\" ,"
         ],
         [
          "\"7000\"",
          "\"7000\"",
          "\"Command and Data Handling\"",
          "\"WP6.4.10\"",
          "\"Proposed\"",
          "\"510000\"",
          "\"Base Plate Module\"",
          "\"7000510000\"",
          "\"0000500000\"",
          "nan",
          "\"Proposed\" ,"
         ],
         [
          "\"7000\"",
          "\"7000\"",
          "\"Command and Data Handling\"",
          "\"WP6.4.10\"",
          "\"Proposed\"",
          "\"511000\"",
          "\"Base Plate\"",
          "\"7000511000\"",
          "\"7000510000\"",
          "nan",
          "\"Proposed\" ,"
         ],
         [
          "\"7000\"",
          "\"7000\"",
          "\"Command and Data Handling\"",
          "\"WP6.4.10\"",
          "\"Proposed\"",
          "\"516000\"",
          "\"Avionics Stack Section\"",
          "\"7000516000\"",
          "\"7000510000\"",
          "nan",
          "\"Proposed\" ,"
         ],
         [
          "\"7000\"",
          "\"7000\"",
          "\"Command and Data Handling\"",
          "\"WP6.4.10\"",
          "\"Proposed\"",
          "\"516300\"",
          "\"Primary Flight Computer Unit\"",
          "\"7000516300\"",
          "\"7000516000\"",
          "nan",
          "\"Proposed\" ,"
         ],
         [
          "\"7000\"",
          "\"7000\"",
          "\"Command and Data Handling\"",
          "\"WP6.4.10\"",
          "\"Proposed\"",
          "\"520000\"",
          "\"Launch Vehicle Interface Module\"",
          "\"7000520000\"",
          "\"0000500000\"",
          "nan",
          "\"Proposed\" ,"
         ],
         [
          "\"7000\"",
          "\"7000\"",
          "\"Command and Data Handling\"",
          "\"WP6.4.10\"",
          "\"Proposed\"",
          "\"521000\"",
          "\"Launch Vehicle Adapter\"",
          "\"7000521000\"",
          "\"7000520000\"",
          "nan",
          "\"Proposed\" ,"
         ],
         [
          "\"7000\"",
          "\"7000\"",
          "\"Command and Data Handling\"",
          "\"WP6.4.10\"",
          "\"Proposed\"",
          "\"522000\"",
          "\"Separation System\"",
          "\"7000522000\"",
          "\"7000520000\"",
          "nan",
          "\"Proposed\" ,"
         ],
         [
          "\"7000\"",
          "\"7000\"",
          "\"Command and Data Handling\"",
          "\"WP6.4.10\"",
          "\"Proposed\"",
          "\"531000\"",
          "\"Propellant Tank Mounting Panel\"",
          "\"7000531000\"",
          "\"4000530000\"",
          "nan",
          "\"Proposed\" ,"
         ],
         [
          "\"7000\"",
          "\"7000\"",
          "\"Command and Data Handling\"",
          "\"WP6.4.10\"",
          "\"Proposed\"",
          "\"533000-4\"",
          "\"Propulsion Structure Post\"",
          "\"7000533000-4\"",
          "\"4000530000\"",
          "nan",
          "\"Proposed\" ,"
         ],
         [
          "\"7000\"",
          "\"7000\"",
          "\"Command and Data Handling\"",
          "\"WP6.4.10\"",
          "\"Proposed\"",
          "\"534000\"",
          "\"Pressurant Tank Mounting Panel\"",
          "\"7000534000\"",
          "\"4000530000\"",
          "nan",
          "\"Proposed\" ,"
         ],
         [
          "\"7000\"",
          "\"7000\"",
          "\"Command and Data Handling\"",
          "\"WP6.4.10\"",
          "\"Proposed\"",
          "\"542000\"",
          "\"Payload Structural Interface\"",
          "\"7000542000\"",
          "\"1000540000\"",
          "nan",
          "\"Proposed\" ,"
         ],
         [
          "\"7000\"",
          "\"7000\"",
          "\"Command and Data Handling\"",
          "\"WP6.4.10\"",
          "\"Proposed\"",
          "\"550000\"",
          "\"Top Panel Module\"",
          "\"7000550000\"",
          "\"0000500000\"",
          "nan",
          "\"Proposed\" ,"
         ],
         [
          "\"7000\"",
          "\"7000\"",
          "\"Command and Data Handling\"",
          "\"WP6.4.10\"",
          "\"Proposed\"",
          "\"551000\"",
          "\"Top Panel\"",
          "\"7000551000\"",
          "\"7000550000\"",
          "nan",
          "\"Proposed\" ,"
         ],
         [
          "\"7000\"",
          "\"7000\"",
          "\"Command and Data Handling\"",
          "\"WP6.4.10\"",
          "\"Proposed\"",
          "\"552000-6\"",
          "\"Structure Post\"",
          "\"7000552000-6\"",
          "\"7000550000\"",
          "nan",
          "\"Proposed\" ,"
         ],
         [
          "\"7000\"",
          "\"7000\"",
          "\"Command and Data Handling\"",
          "\"WP6.4.10\"",
          "\"Proposed\"",
          "\"560000-6\"",
          "\"Side Panel\"",
          "\"7000560000-6\"",
          "\"0000500000\"",
          "nan",
          "\"Proposed\" ,"
         ],
         [
          "\"5000\"",
          "\"5000\"",
          "\"Structures and Mechanisms\"",
          "\"WP6.4.4\"",
          "\"Proposed\"",
          "\"516100\"",
          "\"Power Control Unit\"",
          "\"5000516100\"",
          "\"7000516000\"",
          "nan",
          "\"Proposed\" ,"
         ],
         [
          "\"5000\"",
          "\"5000\"",
          "\"Structures and Mechanisms\"",
          "\"WP6.4.4\"",
          "\"Proposed\"",
          "\"516200\"",
          "\"EPS Regulators and Converters Unit\"",
          "\"5000516200\"",
          "\"7000516000\"",
          "nan",
          "\"Proposed\" ,"
         ],
         [
          "\"5000\"",
          "\"5000\"",
          "\"Structures and Mechanisms\"",
          "\"WP6.4.4\"",
          "\"Proposed\"",
          "\"580000-2\"",
          "\"Solar Array with SADA\"",
          "\"5000580000-2\"",
          "\"0000500000\"",
          "nan",
          "\"Proposed\" ,"
         ],
         [
          "\"8000\"",
          "\"8000\"",
          "\"Thermal Control\"",
          "\"WP6.4.5\"",
          "\"Proposed\"",
          "\"570000\"",
          "\"Thermal Blankets\"",
          "\"8000570000\"",
          "\"0000500000\"",
          "nan",
          "\"Proposed\" ,"
         ],
         [
          "\"3000\"",
          "\"3000\"",
          "\"Electrical Power System\"",
          "\"WP6.4.6\"",
          "\"Proposed\"",
          "\"512000-3\"",
          "\"Battery Pack\"",
          "\"3000512000-3\"",
          "\"7000510000\"",
          "nan",
          "\"Proposed\" ,"
         ],
         [
          "\"3000\"",
          "\"3000\"",
          "\"Electrical Power System\"",
          "\"WP6.4.6\"",
          "\"Proposed\"",
          "\"xxxxxx\"",
          "\"Battery Support\"",
          "\"3000xxxxxx\"",
          "\"7000510000\"",
          "nan",
          "\"Proposed\" ,"
         ],
         [
          "\"2000\"",
          "\"2000\"",
          "\"Attitude Determination and Control System and Guidance, Navigation and Control\"",
          "\"WP6.4.7\"",
          "\"Proposed\"",
          "\"513000\"",
          "\"Magnetometer\"",
          "\"2000513000\"",
          "\"7000510000\"",
          "nan",
          "\"Proposed\" ,"
         ],
         [
          "\"2000\"",
          "\"2000\"",
          "\"Attitude Determination and Control System and Guidance, Navigation and Control\"",
          "\"WP6.4.7\"",
          "\"Proposed\"",
          "\"514000-4\"",
          "\"Reaction Wheel\"",
          "\"2000514000-4\"",
          "\"7000510000\"",
          "nan",
          "\"Proposed\" ,"
         ],
         [
          "\"2000\"",
          "\"2000\"",
          "\"Attitude Determination and Control System and Guidance, Navigation and Control\"",
          "\"WP6.4.7\"",
          "\"Proposed\"",
          "\"515000\"",
          "\"GPS Antenna\"",
          "\"2000515000\"",
          "\"7000510000\"",
          "nan",
          "\"Proposed\" ,"
         ],
         [
          "\"2000\"",
          "\"2000\"",
          "\"Attitude Determination and Control System and Guidance, Navigation and Control\"",
          "\"WP6.4.7\"",
          "\"Proposed\"",
          "\"516600\"",
          "\"GPS Receiver Unit\"",
          "\"2000516600\"",
          "\"7000516000\"",
          "nan",
          "\"Proposed\" ,"
         ],
         [
          "\"2000\"",
          "\"2000\"",
          "\"Attitude Determination and Control System and Guidance, Navigation and Control\"",
          "\"WP6.4.7\"",
          "\"Proposed\"",
          "\"516800\"",
          "\"ADCS Electronics Unit\"",
          "\"2000516800\"",
          "\"7000516000\"",
          "nan",
          "\"Proposed\" ,"
         ],
         [
          "\"2000\"",
          "\"2000\"",
          "\"Attitude Determination and Control System and Guidance, Navigation and Control\"",
          "\"WP6.4.7\"",
          "\"Proposed\"",
          "\"516900-3\"",
          "\"Magnetorquer\"",
          "\"2000516900-3\"",
          "\"7000516000\"",
          "nan",
          "\"Proposed\" ,"
         ],
         [
          "\"2000\"",
          "\"2000\"",
          "\"Attitude Determination and Control System and Guidance, Navigation and Control\"",
          "\"WP6.4.7\"",
          "\"Proposed\"",
          "\"556000\"",
          "\"Sun Sensor\"",
          "\"2000556000\"",
          "\"7000550000\"",
          "nan",
          "\"Proposed\" ,"
         ],
         [
          "\"2000\"",
          "\"2000\"",
          "\"Attitude Determination and Control System and Guidance, Navigation and Control\"",
          "\"WP6.4.7\"",
          "\"Proposed\"",
          "\"557000\"",
          "\"Earth Sensor\"",
          "\"2000557000\"",
          "\"7000550000\"",
          "nan",
          "\"Proposed\" ,"
         ],
         [
          "\"4000\"",
          "\"4000\"",
          "\"Propulsion\"",
          "\"WP6.4.8\"",
          "\"Proposed\"",
          "\"516700\"",
          "\"Propulsion System Control Unit\"",
          "\"4000516700\"",
          "\"7000516000\"",
          "nan",
          "\"Proposed\" ,"
         ],
         [
          "\"4000\"",
          "\"4000\"",
          "\"Propulsion\"",
          "\"WP6.4.8\"",
          "\"Proposed\"",
          "\"517000\"",
          "\"Primary Thruster\"",
          "\"4000517000\"",
          "\"7000510000\"",
          "nan",
          "\"Proposed\" ,"
         ],
         [
          "\"4000\"",
          "\"4000\"",
          "\"Propulsion\"",
          "\"WP6.4.8\"",
          "\"Proposed\"",
          "\"518000-6\"",
          "\"ACS Thruster\"",
          "\"4000518000-6\"",
          "\"7000510000\"",
          "nan",
          "\"Proposed\" ,"
         ],
         [
          "\"4000\"",
          "\"4000\"",
          "\"Propulsion\"",
          "\"WP6.4.8\"",
          "\"Proposed\"",
          "\"519000\"",
          "\"Propellant Handling Section\"",
          "\"4000519000\"",
          "\"7000510000\"",
          "nan",
          "\"Proposed\" ,"
         ],
         [
          "\"4000\"",
          "\"4000\"",
          "\"Propulsion\"",
          "\"WP6.4.8\"",
          "\"Proposed\"",
          "\"519100\"",
          "\"Fill/Drain Valve Unit\"",
          "\"4000519100\"",
          "\"4000519000\"",
          "nan",
          "\"Proposed\" ,"
         ],
         [
          "\"4000\"",
          "\"4000\"",
          "\"Propulsion\"",
          "\"WP6.4.8\"",
          "\"Proposed\"",
          "\"519200\"",
          "\"BP Propellant Line Unit\"",
          "\"4000519200\"",
          "\"4000519000\"",
          "nan",
          "\"Proposed\" ,"
         ],
         [
          "\"4000\"",
          "\"4000\"",
          "\"Propulsion\"",
          "\"WP6.4.8\"",
          "\"Proposed\"",
          "\"530000\"",
          "\"Propulsion Module\"",
          "\"4000530000\"",
          "\"0000500000\"",
          "nan",
          "\"Proposed\" ,"
         ],
         [
          "\"4000\"",
          "\"4000\"",
          "\"Propulsion\"",
          "\"WP6.4.8\"",
          "\"Proposed\"",
          "\"532000\"",
          "\"Propellant Tank\"",
          "\"4000532000\"",
          "\"4000530000\"",
          "nan",
          "\"Proposed\" ,"
         ],
         [
          "\"4000\"",
          "\"4000\"",
          "\"Propulsion\"",
          "\"WP6.4.8\"",
          "\"Proposed\"",
          "\"535000\"",
          "\"Pressurant Tank\"",
          "\"4000535000\"",
          "\"4000530000\"",
          "nan",
          "\"Proposed\" ,"
         ],
         [
          "\"4000\"",
          "\"4000\"",
          "\"Propulsion\"",
          "\"WP6.4.8\"",
          "\"Proposed\"",
          "\"536000\"",
          "\"PM Propellant Line Unit\"",
          "\"4000536000\"",
          "\"4000530000\"",
          "nan",
          "\"Proposed\" ,"
         ],
         [
          "\"6000\"",
          "\"6000\"",
          "\"Communications\"",
          "\"WP6.4.9\"",
          "\"Proposed\"",
          "\"516400\"",
          "\"Transmitter Unit\"",
          "\"6000516400\"",
          "\"7000516000\"",
          "nan",
          "\"Proposed\" ,"
         ],
         [
          "\"6000\"",
          "\"6000\"",
          "\"Communications\"",
          "\"WP6.4.9\"",
          "\"Proposed\"",
          "\"516500\"",
          "\"Receiver Unit\"",
          "\"6000516500\"",
          "\"7000516000\"",
          "nan",
          "\"Proposed\" ,"
         ],
         [
          "\"6000\"",
          "\"6000\"",
          "\"Communications\"",
          "\"WP6.4.9\"",
          "\"Proposed\"",
          "\"553000\"",
          "\"Transmit Whip Antenna\"",
          "\"6000553000\"",
          "\"7000550000\"",
          "nan",
          "\"Proposed\" ,"
         ],
         [
          "\"6000\"",
          "\"6000\"",
          "\"Communications\"",
          "\"WP6.4.9\"",
          "\"Proposed\"",
          "\"554000\"",
          "\"Transmit Hi-Gain Antenna\"",
          "\"6000554000\"",
          "\"7000550000\"",
          "nan",
          "\"Proposed\" ,"
         ],
         [
          "\"6000\"",
          "\"6000\"",
          "\"Communications\"",
          "\"WP6.4.9\"",
          "\"Proposed\"",
          "\"555000\"",
          "\"Receive Whip Antenna\"",
          "\"6000555000\"",
          "\"7000550000\"",
          "nan",
          "\"Proposed\" ,"
         ],
         [
          "\"0000\"",
          "\"0000\"",
          "\"Firesat Flight System\"",
          "\"WP5&WP6\"",
          "\"Proposed\"",
          "\"500000\"",
          "\"Firesat Spacecraft System Segment\"",
          "\"0000500000\"",
          "nan",
          "nan",
          "\"Proposed\" ,"
         ]
        ]
       }
      }
     },
     "cc47a766054a4cc09b7d5eb8b6d19027": {
      "model_module": "@jupyter-widgets/controls",
      "model_module_version": "1.5.0",
      "model_name": "ButtonModel",
      "state": {
       "_dom_classes": [],
       "_model_module": "@jupyter-widgets/controls",
       "_model_module_version": "1.5.0",
       "_model_name": "ButtonModel",
       "_view_count": null,
       "_view_module": "@jupyter-widgets/controls",
       "_view_module_version": "1.5.0",
       "_view_name": "ButtonView",
       "button_style": "",
       "description": "Search",
       "disabled": false,
       "icon": "",
       "layout": "IPY_MODEL_fb774e5e6c6a4eb6b1569ff587b95497",
       "style": "IPY_MODEL_07750db139f54e65a12f7a07d43d73d3",
       "tooltip": ""
      }
     },
     "fb774e5e6c6a4eb6b1569ff587b95497": {
      "model_module": "@jupyter-widgets/base",
      "model_module_version": "1.2.0",
      "model_name": "LayoutModel",
      "state": {
       "_model_module": "@jupyter-widgets/base",
       "_model_module_version": "1.2.0",
       "_model_name": "LayoutModel",
       "_view_count": null,
       "_view_module": "@jupyter-widgets/base",
       "_view_module_version": "1.2.0",
       "_view_name": "LayoutView",
       "align_content": null,
       "align_items": null,
       "align_self": null,
       "border": null,
       "bottom": null,
       "display": null,
       "flex": null,
       "flex_flow": null,
       "grid_area": null,
       "grid_auto_columns": null,
       "grid_auto_flow": null,
       "grid_auto_rows": null,
       "grid_column": null,
       "grid_gap": null,
       "grid_row": null,
       "grid_template_areas": null,
       "grid_template_columns": null,
       "grid_template_rows": null,
       "height": null,
       "justify_content": null,
       "justify_items": null,
       "left": null,
       "margin": null,
       "max_height": null,
       "max_width": null,
       "min_height": null,
       "min_width": null,
       "object_fit": null,
       "object_position": null,
       "order": null,
       "overflow": null,
       "overflow_x": null,
       "overflow_y": null,
       "padding": null,
       "right": null,
       "top": null,
       "visibility": null,
       "width": null
      }
     }
    },
    "version_major": 2,
    "version_minor": 0
   }
  }
 },
 "nbformat": 4,
 "nbformat_minor": 2
}
